{
 "cells": [
  {
   "cell_type": "code",
   "execution_count": 1,
   "metadata": {
    "collapsed": false
   },
   "outputs": [],
   "source": [
    "import numpy as np\n",
    "import pandas as pd\n",
    "\n",
    "import cv2\n",
    "arr=np.zeros((6283,400))\n",
    "for i in range(6283):\n",
    "    img=cv2.imread('gsview/trainResized/'+str(i+1)+'.Bmp',0)\n",
    "    b=np.reshape(img, (1,np.product(img.shape)))\n",
    "    arr[i]=b[0]"
   ]
  },
  {
   "cell_type": "code",
   "execution_count": 2,
   "metadata": {
    "collapsed": false
   },
   "outputs": [],
   "source": [
    "def dist_eucd(a,b):\n",
    "    return np.dot(a-b,np.transpose(a-b))"
   ]
  },
  {
   "cell_type": "code",
   "execution_count": 4,
   "metadata": {
    "collapsed": false
   },
   "outputs": [],
   "source": [
    "train=arr\n",
    "arr=None"
   ]
  },
  {
   "cell_type": "code",
   "execution_count": 5,
   "metadata": {
    "collapsed": false
   },
   "outputs": [
    {
     "data": {
      "text/plain": [
       "27"
      ]
     },
     "execution_count": 5,
     "metadata": {},
     "output_type": "execute_result"
    }
   ],
   "source": [
    "a=np.array([1,2,3])\n",
    "b=np.array([4,5,6])\n",
    "dist_eucd(a,b)"
   ]
  },
  {
   "cell_type": "code",
   "execution_count": 6,
   "metadata": {
    "collapsed": true
   },
   "outputs": [],
   "source": [
    "def k_nearest_neighbour(x,i,k):\n",
    "    nrows,ncols=x.shape\n",
    "    image_i=i\n",
    "    dist_i=np.zeros((nrows,1))\n",
    "    for row in range(nrows):\n",
    "        dist_i[row]=dist_eucd(image_i,x[row])\n",
    "    knn=np.transpose(dist_i)[0].argsort()[0:k]\n",
    "    return knn\n",
    "\n",
    "        \n",
    "        "
   ]
  },
  {
   "cell_type": "code",
   "execution_count": 15,
   "metadata": {
    "collapsed": false
   },
   "outputs": [
    {
     "data": {
      "text/plain": [
       "array([ 180, 5600, 2065, 5394, 5058])"
      ]
     },
     "execution_count": 15,
     "metadata": {},
     "output_type": "execute_result"
    }
   ],
   "source": [
    "k_nearest_neighbour(train,1,5)"
   ]
  },
  {
   "cell_type": "code",
   "execution_count": 7,
   "metadata": {
    "collapsed": true
   },
   "outputs": [],
   "source": [
    "from collections import Counter\n",
    "\n",
    "def Most_Common(lst):\n",
    "    data = Counter(lst)\n",
    "    return data.most_common(1)[0][0]"
   ]
  },
  {
   "cell_type": "code",
   "execution_count": 8,
   "metadata": {
    "collapsed": false
   },
   "outputs": [],
   "source": [
    "arr=np.zeros((6220,400))\n",
    "for i in range(6220):\n",
    "    img=cv2.imread('gsview/testResized/'+str(6284+i)+'.Bmp',0)\n",
    "    b=np.reshape(img, (1,np.product(img.shape)))\n",
    "    arr[i]=b[0]"
   ]
  },
  {
   "cell_type": "code",
   "execution_count": 9,
   "metadata": {
    "collapsed": false
   },
   "outputs": [
    {
     "name": "stdout",
     "output_type": "stream",
     "text": [
      "[[ 115.  114.  113. ...,  124.  123.  120.]\n",
      " [  72.   73.   79. ...,  110.   72.   75.]\n",
      " [  29.   39.   40. ...,   37.   37.   26.]\n",
      " ..., \n",
      " [  84.   87.   88. ...,   83.   83.   80.]\n",
      " [ 162.  156.  169. ...,  168.  147.  149.]\n",
      " [ 103.  108.  101. ...,  129.  156.  100.]]\n"
     ]
    }
   ],
   "source": [
    "test=arr\n",
    "print(test)\n"
   ]
  },
  {
   "cell_type": "code",
   "execution_count": 13,
   "metadata": {
    "collapsed": false
   },
   "outputs": [
    {
     "data": {
      "text/plain": [
       "0       n\n",
       "1       8\n",
       "2       T\n",
       "3       I\n",
       "4       R\n",
       "5       W\n",
       "6       L\n",
       "7       l\n",
       "8       K\n",
       "9       G\n",
       "10      A\n",
       "11      A\n",
       "12      C\n",
       "13      u\n",
       "14      t\n",
       "15      A\n",
       "16      N\n",
       "17      I\n",
       "18      O\n",
       "19      k\n",
       "20      l\n",
       "21      D\n",
       "22      T\n",
       "23      u\n",
       "24      w\n",
       "25      N\n",
       "26      E\n",
       "27      E\n",
       "28      H\n",
       "29      e\n",
       "       ..\n",
       "6253    E\n",
       "6254    2\n",
       "6255    i\n",
       "6256    P\n",
       "6257    T\n",
       "6258    9\n",
       "6259    S\n",
       "6260    I\n",
       "6261    N\n",
       "6262    A\n",
       "6263    m\n",
       "6264    S\n",
       "6265    a\n",
       "6266    q\n",
       "6267    i\n",
       "6268    o\n",
       "6269    I\n",
       "6270    n\n",
       "6271    t\n",
       "6272    S\n",
       "6273    e\n",
       "6274    l\n",
       "6275    O\n",
       "6276    R\n",
       "6277    L\n",
       "6278    N\n",
       "6279    I\n",
       "6280    P\n",
       "6281    N\n",
       "6282    R\n",
       "Name: Class, dtype: object"
      ]
     },
     "execution_count": 13,
     "metadata": {},
     "output_type": "execute_result"
    }
   ],
   "source": [
    "nrows,ncols=test.shape\n",
    "output=np.zeros((6220,1)).astype(object)\n",
    "ylabel=pd.read_csv('gsview/trainLabels.csv')\n",
    "yvalues=ylabel['Class'].values.astype(object)\n",
    "ylabel['Class']\n",
    "\n",
    "\n",
    "\n",
    "\n"
   ]
  },
  {
   "cell_type": "code",
   "execution_count": 81,
   "metadata": {
    "collapsed": false
   },
   "outputs": [],
   "source": [
    "import pandas as pd\n",
    "ylabel=pd.read_csv('gsview/trainLabels.csv')"
   ]
  },
  {
   "cell_type": "code",
   "execution_count": 24,
   "metadata": {
    "collapsed": false
   },
   "outputs": [
    {
     "data": {
      "text/plain": [
       "array(['8', 'T', 'I'], dtype=object)"
      ]
     },
     "execution_count": 24,
     "metadata": {},
     "output_type": "execute_result"
    }
   ],
   "source": [
    "k=5\n",
    "Most_Common((np.array(['b','a','c','d'])))\n",
    "yvalues[np.array((1,2,3))]"
   ]
  },
  {
   "cell_type": "code",
   "execution_count": 32,
   "metadata": {
    "collapsed": false
   },
   "outputs": [],
   "source": [
    "for i in range(nrows):\n",
    "    knn=k_nearest_neighbour(train,test[i],k)\n",
    "    label_arr=yvalues[knn]\n",
    "    if len(label_arr) > len(set(label_arr)):\n",
    "        output[i]=Most_Common(label_arr)\n",
    "    else:\n",
    "        output[i]=yvalues[knn[0]]\n",
    "    \n",
    "    \n",
    "    \n",
    "    "
   ]
  },
  {
   "cell_type": "code",
   "execution_count": 33,
   "metadata": {
    "collapsed": false
   },
   "outputs": [
    {
     "data": {
      "text/plain": [
       "array([['H'],\n",
       "       ['E'],\n",
       "       ['A'],\n",
       "       ..., \n",
       "       ['M'],\n",
       "       ['X'],\n",
       "       ['e']], dtype=object)"
      ]
     },
     "execution_count": 33,
     "metadata": {},
     "output_type": "execute_result"
    }
   ],
   "source": [
    "output"
   ]
  },
  {
   "cell_type": "code",
   "execution_count": 34,
   "metadata": {
    "collapsed": false
   },
   "outputs": [
    {
     "data": {
      "text/plain": [
       "6220"
      ]
     },
     "execution_count": 34,
     "metadata": {},
     "output_type": "execute_result"
    }
   ],
   "source": [
    "len(output)"
   ]
  },
  {
   "cell_type": "code",
   "execution_count": 36,
   "metadata": {
    "collapsed": false
   },
   "outputs": [],
   "source": [
    "import csv\n",
    "\n",
    "# open a file for writing.\n",
    "csv_out = open('mycsv1.csv', 'wb')\n",
    "\n",
    "# create the csv writer object.\n",
    "mywriter = csv.writer(csv_out)\n",
    "\n",
    "# writerow - one row of data at a time.\n",
    "for row in output:\n",
    "    mywriter.writerow(row)\n",
    "\n",
    "# always make sure that you close the file.\n",
    "# otherwise you might find that it is empty.\n",
    "csv_out.close()\n"
   ]
  },
  {
   "cell_type": "code",
   "execution_count": null,
   "metadata": {
    "collapsed": true
   },
   "outputs": [],
   "source": []
  }
 ],
 "metadata": {
  "kernelspec": {
   "display_name": "Python 2",
   "language": "python",
   "name": "python2"
  },
  "language_info": {
   "codemirror_mode": {
    "name": "ipython",
    "version": 2
   },
   "file_extension": ".py",
   "mimetype": "text/x-python",
   "name": "python",
   "nbconvert_exporter": "python",
   "pygments_lexer": "ipython2",
   "version": "2.7.12"
  }
 },
 "nbformat": 4,
 "nbformat_minor": 0
}
